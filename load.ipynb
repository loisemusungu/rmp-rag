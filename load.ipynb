{
 "cells": [
  {
   "cell_type": "code",
   "execution_count": 2,
   "metadata": {},
   "outputs": [],
   "source": [
    "from dotenv import load_dotenv\n",
    "load_dotenv()\n",
    "import os\n",
    "from openai import OpenAI\n",
    "from pinecone import Pinecone, ServerlessSpec"
   ]
  },
  {
   "cell_type": "code",
   "execution_count": 3,
   "metadata": {},
   "outputs": [],
   "source": [
    "pc = Pinecone(api_key=os.getenv(\"PINECONE_API_KEY\"))\n",
    "pc.create_index(\n",
    "    name=\"rag\", dimension=1536, metric=\"cosine\", spec=ServerlessSpec(cloud=\"aws\", region=\"us-east-1\")\n",
    ")"
   ]
  },
  {
   "cell_type": "code",
   "execution_count": 4,
   "metadata": {},
   "outputs": [
    {
     "data": {
      "text/plain": [
       "[{'professor': 'Dr. Sarah Thompson',\n",
       "  'subject': 'Biology',\n",
       "  'stars': 4,\n",
       "  'review': \"Dr. Thompson's lectures are engaging and her lab sessions are well-organized.\"},\n",
       " {'professor': 'Prof. Michael Chen',\n",
       "  'subject': 'Computer Science',\n",
       "  'stars': 5,\n",
       "  'review': 'Brilliant teacher who makes complex algorithms understandable. Highly recommended!'},\n",
       " {'professor': 'Dr. Emily Rodriguez',\n",
       "  'subject': 'Psychology',\n",
       "  'stars': 3,\n",
       "  'review': 'Interesting material, but assignments can be unclear at times.'},\n",
       " {'professor': 'Prof. David Johnson',\n",
       "  'subject': 'Mathematics',\n",
       "  'stars': 4,\n",
       "  'review': 'Challenging course, but Prof. Johnson is always willing to help during office hours.'},\n",
       " {'professor': 'Dr. Lisa Patel',\n",
       "  'subject': 'Chemistry',\n",
       "  'stars': 5,\n",
       "  'review': \"Dr. Patel's passion for chemistry is contagious. Her experiments are fascinating!\"},\n",
       " {'professor': 'Prof. James Wilson',\n",
       "  'subject': 'History',\n",
       "  'stars': 2,\n",
       "  'review': 'Lectures are often dry and the workload is excessive.'},\n",
       " {'professor': 'Dr. Maria Garcia',\n",
       "  'subject': 'Sociology',\n",
       "  'stars': 4,\n",
       "  'review': 'Thought-provoking discussions and relevant case studies. Very insightful.'},\n",
       " {'professor': 'Prof. Robert Brown',\n",
       "  'subject': 'Physics',\n",
       "  'stars': 3,\n",
       "  'review': 'Knowledgeable but sometimes struggles to explain complex concepts clearly.'},\n",
       " {'professor': 'Dr. Jennifer Lee',\n",
       "  'subject': 'English Literature',\n",
       "  'stars': 5,\n",
       "  'review': \"Dr. Lee's analysis of classic works is outstanding. She encourages critical thinking.\"},\n",
       " {'professor': 'Prof. Ahmed Hassan',\n",
       "  'subject': 'Economics',\n",
       "  'stars': 4,\n",
       "  'review': 'Practical approach to economics with real-world examples. Challenging but rewarding.'},\n",
       " {'professor': 'Dr. Rebecca White',\n",
       "  'subject': 'Art History',\n",
       "  'stars': 5,\n",
       "  'review': 'Passionate about the subject. Field trips to museums greatly enhance the learning experience.'},\n",
       " {'professor': 'Prof. Thomas Green',\n",
       "  'subject': 'Political Science',\n",
       "  'stars': 3,\n",
       "  'review': 'Interesting course content, but Prof. Green can sometimes appear biased in discussions.'},\n",
       " {'professor': 'Dr. Laura Martinez',\n",
       "  'subject': 'Environmental Science',\n",
       "  'stars': 4,\n",
       "  'review': 'Engaging lectures and relevant field work. Dr. Martinez is clearly dedicated to her field.'},\n",
       " {'professor': 'Prof. Kevin Zhang',\n",
       "  'subject': 'Electrical Engineering',\n",
       "  'stars': 5,\n",
       "  'review': 'Excellent at explaining complex circuits. Lab sessions are particularly helpful.'},\n",
       " {'professor': 'Dr. Olivia Clark',\n",
       "  'subject': 'Philosophy',\n",
       "  'stars': 4,\n",
       "  'review': 'Challenges students to think critically. Discussions can be intense but enlightening.'},\n",
       " {'professor': 'Prof. Daniel Kim',\n",
       "  'subject': 'Marketing',\n",
       "  'stars': 3,\n",
       "  'review': 'Good theoretical knowledge, but could use more practical, up-to-date examples.'},\n",
       " {'professor': 'Dr. Sophia Nguyen',\n",
       "  'subject': 'Neuroscience',\n",
       "  'stars': 5,\n",
       "  'review': 'Cutting-edge research incorporated into lectures. Dr. Nguyen is an inspiring educator.'},\n",
       " {'professor': 'Prof. William Taylor',\n",
       "  'subject': 'Music Theory',\n",
       "  'stars': 4,\n",
       "  'review': 'Patient teacher who breaks down complex musical concepts effectively.'},\n",
       " {'professor': 'Dr. Emma Scott',\n",
       "  'subject': 'Genetics',\n",
       "  'stars': 5,\n",
       "  'review': 'Excellent at explaining complex genetic principles. Lab work is particularly enlightening.'},\n",
       " {'professor': 'Prof. Richard Davis',\n",
       "  'subject': 'Architecture',\n",
       "  'stars': 3,\n",
       "  'review': 'Knowledgeable about architectural history, but project feedback could be more constructive.'}]"
      ]
     },
     "execution_count": 4,
     "metadata": {},
     "output_type": "execute_result"
    }
   ],
   "source": [
    "import json\n",
    "data = json.load(open(\"reviews.json\"))\n",
    "data['reviews']"
   ]
  },
  {
   "cell_type": "code",
   "execution_count": 6,
   "metadata": {},
   "outputs": [
    {
     "ename": "NameError",
     "evalue": "name 'OpenAI' is not defined",
     "output_type": "error",
     "traceback": [
      "\u001b[0;31m---------------------------------------------------------------------------\u001b[0m",
      "\u001b[0;31mNameError\u001b[0m                                 Traceback (most recent call last)",
      "Cell \u001b[0;32mIn[6], line 2\u001b[0m\n\u001b[1;32m      1\u001b[0m processed_data \u001b[38;5;241m=\u001b[39m []\n\u001b[0;32m----> 2\u001b[0m client \u001b[38;5;241m=\u001b[39m \u001b[43mOpenAI\u001b[49m()\n\u001b[1;32m      4\u001b[0m \u001b[38;5;28;01mfor\u001b[39;00m review \u001b[38;5;129;01min\u001b[39;00m data[\u001b[38;5;124m'\u001b[39m\u001b[38;5;124mreviews\u001b[39m\u001b[38;5;124m'\u001b[39m]:\n\u001b[1;32m      5\u001b[0m     response \u001b[38;5;241m=\u001b[39m client\u001b[38;5;241m.\u001b[39membeddings\u001b[38;5;241m.\u001b[39mcreate(\n\u001b[1;32m      6\u001b[0m         \u001b[38;5;28minput\u001b[39m\u001b[38;5;241m=\u001b[39mreview[\u001b[38;5;124m'\u001b[39m\u001b[38;5;124mreview\u001b[39m\u001b[38;5;124m'\u001b[39m],\n\u001b[1;32m      7\u001b[0m         model\u001b[38;5;241m=\u001b[39m\u001b[38;5;124m\"\u001b[39m\u001b[38;5;124mtext-embedding-3-small\u001b[39m\u001b[38;5;124m\"\u001b[39m,\n\u001b[1;32m      8\u001b[0m     )\n",
      "\u001b[0;31mNameError\u001b[0m: name 'OpenAI' is not defined"
     ]
    }
   ],
   "source": [
    "processed_data = []\n",
    "client = OpenAI()\n",
    "\n",
    "for review in data['reviews']:\n",
    "    response = client.embeddings.create(\n",
    "        input=review['review'],\n",
    "        model=\"text-embedding-3-small\",\n",
    "    )\n",
    "    embedding = response.data[0].embedding\n",
    "    processed_data.append({\n",
    "        \"values\": embedding,\n",
    "        \"id\": review[\"professor\"],\n",
    "        \"metadata\": {\n",
    "            \"review\": review[\"review\"],\n",
    "            \"subject\": review[\"subject\"],\n",
    "            \"stars\": review[\"stars\"]\n",
    "        }\n",
    "    })"
   ]
  }
 ],
 "metadata": {
  "kernelspec": {
   "display_name": "rag",
   "language": "python",
   "name": "python3"
  },
  "language_info": {
   "codemirror_mode": {
    "name": "ipython",
    "version": 3
   },
   "file_extension": ".py",
   "mimetype": "text/x-python",
   "name": "python",
   "nbconvert_exporter": "python",
   "pygments_lexer": "ipython3",
   "version": "3.12.1"
  }
 },
 "nbformat": 4,
 "nbformat_minor": 2
}
